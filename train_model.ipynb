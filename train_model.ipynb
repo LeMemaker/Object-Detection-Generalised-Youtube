{
 "cells": [
  {
   "cell_type": "markdown",
   "metadata": {},
   "source": [
    "## Configuration for the training"
   ]
  },
  {
   "cell_type": "code",
   "execution_count": 1,
   "metadata": {},
   "outputs": [],
   "source": [
    "import os\n",
    "\n",
    "cwd = os.getcwd()\n",
    "\n",
    "if not os.path.exists('model'):\n",
    "    os.mkdir('model')\n",
    "\n",
    "if not os.path.exists(f'{cwd}/result'):\n",
    "    os.mkdir(f'{cwd}/result')\n",
    "\n",
    "TRAIN_DATASET_PATH = f'{cwd}/dataset/train'\n",
    "VALID_DATASET_PATH = f'{cwd}/dataset/valid'\n",
    "TEST_DATASET_PATH = f'{cwd}/dataset/test'\n",
    "MODEL_PATH = f'{cwd}/model'\n",
    "\n",
    "MODEL = 'efficientdet_lite0'\n",
    "MODEL_NAME = 'fish.tflite'\n",
    "CLASSES = ['fish', 'jellyfish', 'penguin', 'shark', 'puffin', 'stingray', 'starfish']\n",
    "EPOCHS = 20\n",
    "BATCH_SIZE = 4"
   ]
  },
  {
   "cell_type": "code",
   "execution_count": 2,
   "metadata": {},
   "outputs": [
    {
     "name": "stderr",
     "output_type": "stream",
     "text": [
      "2022-07-03 10:21:38.658267: W tensorflow/stream_executor/platform/default/dso_loader.cc:64] Could not load dynamic library 'libcudart.so.11.0'; dlerror: libcudart.so.11.0: cannot open shared object file: No such file or directory\n",
      "2022-07-03 10:21:38.658346: I tensorflow/stream_executor/cuda/cudart_stub.cc:29] Ignore above cudart dlerror if you do not have a GPU set up on your machine.\n",
      "/home/raj/miniconda3/envs/envyoutube38/lib/python3.8/site-packages/tqdm/auto.py:22: TqdmWarning: IProgress not found. Please update jupyter and ipywidgets. See https://ipywidgets.readthedocs.io/en/stable/user_install.html\n",
      "  from .autonotebook import tqdm as notebook_tqdm\n"
     ]
    }
   ],
   "source": [
    "from tflite_model_maker import model_spec\n",
    "from tflite_model_maker import object_detector"
   ]
  },
  {
   "cell_type": "markdown",
   "metadata": {},
   "source": [
    "## Create dataset for training"
   ]
  },
  {
   "cell_type": "code",
   "execution_count": 3,
   "metadata": {},
   "outputs": [
    {
     "name": "stdout",
     "output_type": "stream",
     "text": [
      "INFO:tensorflow:Cache will be stored in /tmp/tmp25pb_wsp with prefix filename 7bee435cfee6949ada7cad38d32e815e. Cache_prefix is /tmp/tmp25pb_wsp/7bee435cfee6949ada7cad38d32e815e\n",
      "INFO:tensorflow:On image 0\n",
      "INFO:tensorflow:On image 100\n",
      "INFO:tensorflow:On image 200\n",
      "INFO:tensorflow:On image 300\n",
      "INFO:tensorflow:On image 400\n",
      "INFO:tensorflow:Cache will be stored in /tmp/tmperkirkgv with prefix filename 11a526a320c4c8a1416196ba3144593c. Cache_prefix is /tmp/tmperkirkgv/11a526a320c4c8a1416196ba3144593c\n",
      "INFO:tensorflow:On image 0\n",
      "INFO:tensorflow:On image 100\n"
     ]
    }
   ],
   "source": [
    "train_data = object_detector.DataLoader.from_pascal_voc(\n",
    "    TRAIN_DATASET_PATH,\n",
    "    TRAIN_DATASET_PATH,\n",
    "    CLASSES\n",
    ")\n",
    "\n",
    "val_data = object_detector.DataLoader.from_pascal_voc(\n",
    "    VALID_DATASET_PATH,\n",
    "    VALID_DATASET_PATH,\n",
    "    CLASSES\n",
    ")"
   ]
  },
  {
   "cell_type": "markdown",
   "metadata": {},
   "source": [
    "## Generate the model"
   ]
  },
  {
   "cell_type": "code",
   "execution_count": 4,
   "metadata": {},
   "outputs": [
    {
     "name": "stderr",
     "output_type": "stream",
     "text": [
      "2022-07-03 10:24:07.909846: W tensorflow/stream_executor/platform/default/dso_loader.cc:64] Could not load dynamic library 'libcuda.so.1'; dlerror: libcuda.so.1: cannot open shared object file: No such file or directory\n",
      "2022-07-03 10:24:07.909871: W tensorflow/stream_executor/cuda/cuda_driver.cc:269] failed call to cuInit: UNKNOWN ERROR (303)\n",
      "2022-07-03 10:24:07.909888: I tensorflow/stream_executor/cuda/cuda_diagnostics.cc:156] kernel driver does not appear to be running on this host (jaimatadi): /proc/driver/nvidia/version does not exist\n",
      "2022-07-03 10:24:07.931550: I tensorflow/core/platform/cpu_feature_guard.cc:151] This TensorFlow binary is optimized with oneAPI Deep Neural Network Library (oneDNN) to use the following CPU instructions in performance-critical operations:  AVX2 FMA\n",
      "To enable them in other operations, rebuild TensorFlow with the appropriate compiler flags.\n"
     ]
    }
   ],
   "source": [
    "spec = model_spec.get(MODEL)"
   ]
  },
  {
   "cell_type": "code",
   "execution_count": null,
   "metadata": {},
   "outputs": [],
   "source": [
    "model = object_detector.create(\n",
    "    train_data,\n",
    "    model_spec=spec,\n",
    "    batch_size=BATCH_SIZE,\n",
    "    train_whole_model=True,\n",
    "    epochs=EPOCHS,\n",
    "    validation_data=val_data\n",
    ")"
   ]
  },
  {
   "cell_type": "code",
   "execution_count": null,
   "metadata": {},
   "outputs": [],
   "source": [
    "model.evaluate(val_data)"
   ]
  },
  {
   "cell_type": "code",
   "execution_count": null,
   "metadata": {},
   "outputs": [],
   "source": [
    "model.export(export_dir=MODEL_PATH, tflite_filename=MODEL_NAME)"
   ]
  }
 ],
 "metadata": {
  "kernelspec": {
   "display_name": "Python 3.8.13 ('envyoutube38')",
   "language": "python",
   "name": "python3"
  },
  "language_info": {
   "codemirror_mode": {
    "name": "ipython",
    "version": 3
   },
   "file_extension": ".py",
   "mimetype": "text/x-python",
   "name": "python",
   "nbconvert_exporter": "python",
   "pygments_lexer": "ipython3",
   "version": "3.8.13"
  },
  "orig_nbformat": 4,
  "vscode": {
   "interpreter": {
    "hash": "1bfed101f5dec17fb91bbc743483315d9447c9ca2c9302fa944c7272d92889df"
   }
  }
 },
 "nbformat": 4,
 "nbformat_minor": 2
}
